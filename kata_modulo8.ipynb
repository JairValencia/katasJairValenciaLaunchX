{
 "cells": [
  {
   "cell_type": "markdown",
   "metadata": {},
   "source": [
    "## Crear y modificar diccionario de python"
   ]
  },
  {
   "cell_type": "code",
   "execution_count": 12,
   "metadata": {},
   "outputs": [
    {
     "name": "stdout",
     "output_type": "stream",
     "text": [
      "planeta: Mars lunas: 2\n",
      "Mars tiene una circunferencia polar: 6752\n"
     ]
    }
   ],
   "source": [
    "planet={'name':'Mars','moons':2}  #diccionario\n",
    "print(f'planeta: {planet[\"name\"]} lunas: {planet[\"moons\"]}')              #se puede usar tambien print(planet.get('name'))\n",
    "planet['circunferencia (km)']={'polar':6752,'equatorial':6792} #agregamos  clave y valores es decir un diccionario dentro de otro\n",
    "print(f'{planet[\"name\"]} tiene una circunferencia polar: {planet[\"circunferencia (km)\"][\"polar\"]}')"
   ]
  },
  {
   "cell_type": "markdown",
   "metadata": {},
   "source": [
    "## Programacion dinamica con diccionarios"
   ]
  },
  {
   "cell_type": "code",
   "execution_count": 15,
   "metadata": {},
   "outputs": [
    {
     "name": "stdout",
     "output_type": "stream",
     "text": [
      "promedio de lunas:  17.833333333333332\n"
     ]
    }
   ],
   "source": [
    "planet_moons={\n",
    "    'mercury':0,\n",
    "    'venus':0,\n",
    "    'earth':1,\n",
    "    'mars':2,\n",
    "    'jupiter':79,\n",
    "    'saturn':82,\n",
    "    'uranus':27,\n",
    "    'neptune':14,\n",
    "    'pluto':5,\n",
    "    'haumea':2,\n",
    "    'makemake':1,\n",
    "    'eris':1\n",
    "}\n",
    "moons=planet_moons.values()  #pasamos a moons la lista de los valores de las lunas\n",
    "planets=len(planet_moons)  #obtenemos el total de planetas\n",
    "total_moons=0\n",
    "for moon in moons :\n",
    "    total_moons+=moon\n",
    "\n",
    "promedio=total_moons/planets\n",
    "print(\"promedio de lunas: \",promedio)"
   ]
  }
 ],
 "metadata": {
  "interpreter": {
   "hash": "1a6279c56d6e5066ff485adb897d3f24ee1de50ebfd570aeab76bb8515b11bc8"
  },
  "kernelspec": {
   "display_name": "Python 3.8.3 ('base')",
   "language": "python",
   "name": "python3"
  },
  "language_info": {
   "codemirror_mode": {
    "name": "ipython",
    "version": 3
   },
   "file_extension": ".py",
   "mimetype": "text/x-python",
   "name": "python",
   "nbconvert_exporter": "python",
   "pygments_lexer": "ipython3",
   "version": "3.8.3"
  },
  "orig_nbformat": 4
 },
 "nbformat": 4,
 "nbformat_minor": 2
}
