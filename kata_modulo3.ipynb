{
 "cells": [
  {
   "cell_type": "markdown",
   "metadata": {},
   "source": [
    "## Asteroide"
   ]
  },
  {
   "cell_type": "code",
   "execution_count": 3,
   "metadata": {},
   "outputs": [
    {
     "name": "stdout",
     "output_type": "stream",
     "text": [
      "alerta asteroide se acerca a la tierra\n"
     ]
    }
   ],
   "source": [
    "asteroide=49\n",
    "\n",
    "if asteroide>25:\n",
    "    print(\"alerta asteroide se acerca a la tierra\")\n",
    "else:\n",
    "    print(\"pueden continuar con su día\")"
   ]
  },
  {
   "cell_type": "markdown",
   "metadata": {},
   "source": [
    "## Asteroide que viaja a 19 k/h"
   ]
  },
  {
   "cell_type": "code",
   "execution_count": 4,
   "metadata": {},
   "outputs": [
    {
     "name": "stdout",
     "output_type": "stream",
     "text": [
      "no se puede ver la luz en el cielo\n"
     ]
    }
   ],
   "source": [
    "asteroide= 19\n",
    "velocidad=20\n",
    "if asteroide> velocidad:\n",
    "    print(\"pueden buscar un rayo de luz en el cielo \")\n",
    "elif asteroide == velocidad:\n",
    "    print(\"puede que no se vea nada pero busquen si quieren una luz en el cielo\")\n",
    "else:\n",
    "    print(\"no se puede ver la luz en el cielo\")\n"
   ]
  },
  {
   "cell_type": "markdown",
   "metadata": {},
   "source": [
    "## Sistema de advertencia activado"
   ]
  },
  {
   "cell_type": "code",
   "execution_count": 11,
   "metadata": {},
   "outputs": [
    {
     "name": "stdout",
     "output_type": "stream",
     "text": [
      "se puede ver una luz en el cielo\n"
     ]
    }
   ],
   "source": [
    "velocidad=24\n",
    "tamaño=2\n",
    "\n",
    "if velocidad>25 and tamaño>25:\n",
    "    printf(\"corran todos\")\n",
    "elif velocidad>=20 :\n",
    "    print(\"se puede ver una luz en el cielo\")\n",
    "elif velocidad<20:\n",
    "    print(\"no se puede ver la  luz del cielo\")\n",
    "\n"
   ]
  }
 ],
 "metadata": {
  "interpreter": {
   "hash": "7f30666f3a8d7c2183e283e5bcad9e62cf61480f5e8def49bb2caf27933db517"
  },
  "kernelspec": {
   "display_name": "Python 3.7.4 32-bit",
   "language": "python",
   "name": "python3"
  },
  "language_info": {
   "codemirror_mode": {
    "name": "ipython",
    "version": 3
   },
   "file_extension": ".py",
   "mimetype": "text/x-python",
   "name": "python",
   "nbconvert_exporter": "python",
   "pygments_lexer": "ipython3",
   "version": "3.8.3"
  },
  "orig_nbformat": 4
 },
 "nbformat": 4,
 "nbformat_minor": 2
}
