{
 "cells": [
  {
   "cell_type": "markdown",
   "metadata": {},
   "source": [
    "## argumentos en funciones"
   ]
  },
  {
   "cell_type": "code",
   "execution_count": 20,
   "metadata": {},
   "outputs": [
    {
     "name": "stdout",
     "output_type": "stream",
     "text": [
      "----------------combustible----------------\n",
      "    promedio de combustible: 78.33333333333333 %\n",
      "    tanque numero 1: 80 %\n",
      "    tanque numero 2: 60 %\n",
      "    tanque numero 3: 95 %\n",
      "    \n",
      "----------------combustible----------------\n",
      "    promedio de combustible: 85.0 %\n",
      "    tanque numero 1: 80 %\n",
      "    tanque numero 2: 90 %\n",
      "    tanque numero 3: 85 %\n",
      "    \n"
     ]
    }
   ],
   "source": [
    "def funcion(tanque1,tanque2,tanque3):\n",
    "    promedio=(tanque1+tanque2+tanque3)/3\n",
    "    return f\"\"\"----------------combustible----------------\n",
    "    promedio de combustible: {promedio} %\n",
    "    tanque numero 1: {tanque1} %\n",
    "    tanque numero 2: {tanque2} %\n",
    "    tanque numero 3: {tanque3} %\n",
    "    \"\"\"\n",
    "\n",
    "print(funcion(tanque1=80,tanque2=60,tanque3=95))\n",
    "\n",
    "def prom(*values):\n",
    "    total=sum(values)\n",
    "    tanques=len(values)\n",
    "    return total/tanques\n",
    "\n",
    "prom(75,80,85)\n",
    "\n",
    "def funcion2(tanque1,tanque2,tanque3):\n",
    "    return f\"\"\"----------------combustible----------------\n",
    "    promedio de combustible: {prom(tanque1,tanque2,tanque3)} %\n",
    "    tanque numero 1: {tanque1} %\n",
    "    tanque numero 2: {tanque2} %\n",
    "    tanque numero 3: {tanque3} %\n",
    "    \"\"\"\n",
    "\n",
    "print(funcion2(80,90,85))"
   ]
  },
  {
   "cell_type": "markdown",
   "metadata": {},
   "source": [
    "## Argumentos de palabras clave"
   ]
  },
  {
   "cell_type": "code",
   "execution_count": 5,
   "metadata": {},
   "outputs": [
    {
     "name": "stdout",
     "output_type": "stream",
     "text": [
      "----------------informe----------------\n",
      "    Mision a: moon \n",
      "    Tiempo total de viaje: 75 \n",
      "    tanque numero 1: 80 \n",
      "    tanque numero 2: 90 \n",
      "    \n",
      "interno tanque ------> 95 galones \n",
      "externo tanque ------> 80 galones \n",
      "\n"
     ]
    }
   ],
   "source": [
    "def reporte(pre_lanza,tiemp_vuelo,destino,tanque_ext,tanque_int):\n",
    "    return f\"\"\"----------------informe----------------\n",
    "    Mision a: {destino} \n",
    "    Tiempo total de viaje: {pre_lanza+tiemp_vuelo} \n",
    "    tanque numero 1: {tanque_ext} \n",
    "    tanque numero 2: {tanque_int} \n",
    "    \"\"\"\n",
    "print(reporte(15,60,\"moon\",80,90))\n",
    "\n",
    "def reporte2(dest,*minutes,**tanques):\n",
    "    f\"\"\"----------------informe----------------\n",
    "    Mision a: {dest} \n",
    "    Tiempo total de viaje: {sum(minutes)} minutos\n",
    "    Combustible total: {sum(tanques.values())}  \n",
    "    \"\"\"\n",
    "    reporte_interno=\"\"\n",
    "    for tanque, gallons in tanques.items():\n",
    "        reporte_interno +=f\"{tanque} tanque ------> {gallons} galones \\n\" \n",
    "\n",
    "    return reporte_interno\n",
    "    \n",
    "print(reporte2(\"moon\",15,60,interno=95,externo=80))\n"
   ]
  }
 ],
 "metadata": {
  "interpreter": {
   "hash": "1a6279c56d6e5066ff485adb897d3f24ee1de50ebfd570aeab76bb8515b11bc8"
  },
  "kernelspec": {
   "display_name": "Python 3.8.3 ('base')",
   "language": "python",
   "name": "python3"
  },
  "language_info": {
   "codemirror_mode": {
    "name": "ipython",
    "version": 3
   },
   "file_extension": ".py",
   "mimetype": "text/x-python",
   "name": "python",
   "nbconvert_exporter": "python",
   "pygments_lexer": "ipython3",
   "version": "3.8.3"
  },
  "orig_nbformat": 4
 },
 "nbformat": 4,
 "nbformat_minor": 2
}
