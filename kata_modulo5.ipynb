{
 "cells": [
  {
   "cell_type": "markdown",
   "metadata": {},
   "source": [
    "## Distancia entre dos planetas"
   ]
  },
  {
   "cell_type": "code",
   "execution_count": 5,
   "metadata": {},
   "outputs": [
    {
     "name": "stdout",
     "output_type": "stream",
     "text": [
      "distancia en kilometros:  628949330\n",
      "la distancia en millas es:  390577533.93\n"
     ]
    }
   ],
   "source": [
    "tierra= 149597870  #km\n",
    "júpiter= 778547200\n",
    "\n",
    "kilometros= abs(tierra-júpiter)\n",
    "millas=resta*0.621\n",
    "print(\"distancia en kilometros: \",kilometros)\n",
    "print(\"la distancia en millas es: \",millas)"
   ]
  },
  {
   "cell_type": "markdown",
   "metadata": {},
   "source": [
    "## cadenas en números y valores absolutos"
   ]
  },
  {
   "cell_type": "code",
   "execution_count": 6,
   "metadata": {},
   "outputs": [
    {
     "name": "stdout",
     "output_type": "stream",
     "text": [
      "distancia en kilometros: 50300000\n",
      "distancia en millas:  31236300.0\n"
     ]
    }
   ],
   "source": [
    "\n",
    "planeta1=input(\"ingresa el primer planeta:\")\n",
    "planeta2=input(\"ingresa el segundo planeta:\")\n",
    "valor1=int(planeta1)\n",
    "valor2=int(planeta2)\n",
    "resultado1=abs(valor1-valor2)\n",
    "resultado2=resultado1*0.621\n",
    "print(\"distancia en kilometros:\",resultado1)\n",
    "print(\"distancia en millas: \",resultado2)\n",
    "\n"
   ]
  }
 ],
 "metadata": {
  "interpreter": {
   "hash": "7f30666f3a8d7c2183e283e5bcad9e62cf61480f5e8def49bb2caf27933db517"
  },
  "kernelspec": {
   "display_name": "Python 3.7.4 32-bit",
   "language": "python",
   "name": "python3"
  },
  "language_info": {
   "codemirror_mode": {
    "name": "ipython",
    "version": 3
   },
   "file_extension": ".py",
   "mimetype": "text/x-python",
   "name": "python",
   "nbconvert_exporter": "python",
   "pygments_lexer": "ipython3",
   "version": "3.8.3"
  },
  "orig_nbformat": 4
 },
 "nbformat": 4,
 "nbformat_minor": 2
}
