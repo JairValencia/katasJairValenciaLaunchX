{
 "cells": [
  {
   "cell_type": "code",
   "execution_count": 17,
   "metadata": {},
   "outputs": [
    {
     "name": "stdout",
     "output_type": "stream",
     "text": [
      " \n",
      "On average, the Moon moves 4cm away from the Earth every year\n",
      "The highest daylight temperature of the Moon is 127 C\n",
      " \n",
      "On average, the Moon moves 4cm away from the Earth every year\n",
      "The highest daylight temperature of the Moon is 127 celsius\n"
     ]
    }
   ],
   "source": [
    "text=\"\"\" Interesting facts about the Moon. The Moon is Earth's only satellite. There are several interesting facts about the Moon and how it affects life here on Earth.  \n",
    "On average, the Moon moves 4cm away from the Earth every year. This yearly drift is not significant enough to cause immediate effects on Earth. The highest daylight temperature of the Moon is 127 C. \"\"\"\n",
    "\n",
    "partes=text.split('. ')\n",
    "palabras=[\"average\",\"temperature\",\"distance\"]\n",
    "palabra=\"Moon\"\n",
    "for sentencia in partes:\n",
    "    for palabra in palabras:\n",
    "        if palabra in sentencia:\n",
    "            print(sentencia)\n",
    "            break\n",
    "\n",
    "for sentencia in partes:\n",
    "    for palabra in palabras:\n",
    "        if palabra in sentencia:\n",
    "            print(sentencia.replace(' C',' celsius'))\n",
    "            break\n"
   ]
  },
  {
   "cell_type": "markdown",
   "metadata": {},
   "source": [
    "## Formateando Cadenas"
   ]
  },
  {
   "cell_type": "code",
   "execution_count": 28,
   "metadata": {},
   "outputs": [
    {
     "name": "stdout",
     "output_type": "stream",
     "text": [
      "-------------------------------------------------------------------------------- \n",
      " Nombre del planeta: Earth gravedad en Moon: 1.6199999999999999 m/s2\n",
      "-------------------------------------------------------------------------------- \n",
      " Nombre del planeta: Earth gravedad en Moon: 1.6199999999999999 m/s2\n",
      " Datos de Gravedad sobre: Ganimedes\n",
      " --------------------------------------------------------------------------------\n",
      "Nombre del planeta: Marte \n",
      "Gravedad en Ganimedes: 1.4300000000000002 m/s2 \n"
     ]
    }
   ],
   "source": [
    "name = \"Moon\"\n",
    "gravity= 0.00162 #kms\n",
    "planet= \"Earth\"\n",
    "title=f'datos de gravedad sobre {name}'\n",
    "\n",
    "hechos=f\"\"\"{'-'*80} \\n Nombre del planeta: {planet} gravedad en {name}: {gravity*1000} m/s2\"\"\"\n",
    "\n",
    "cadenas=f\"\"\" {title.title()}{hechos}\"\"\"\n",
    "print(hechos)\n",
    "\n",
    "name = \"Ganimedes\"\n",
    "gravity= 0.00143 #kms\n",
    "planet= \"Marte\"\n",
    "print(hechos)\n",
    "\n",
    "cadenas2=f\"\"\" Datos de Gravedad sobre: {name}\\n {'-'*80}\n",
    "Nombre del planeta: {planet} \n",
    "Gravedad en {name}: {gravity*1000} m/s2 \"\"\" \n",
    "print(cadenas2.format(name=name, planet=planet, gravity=gravity))\n"
   ]
  }
 ],
 "metadata": {
  "interpreter": {
   "hash": "1a6279c56d6e5066ff485adb897d3f24ee1de50ebfd570aeab76bb8515b11bc8"
  },
  "kernelspec": {
   "display_name": "Python 3.8.3 ('base')",
   "language": "python",
   "name": "python3"
  },
  "language_info": {
   "codemirror_mode": {
    "name": "ipython",
    "version": 3
   },
   "file_extension": ".py",
   "mimetype": "text/x-python",
   "name": "python",
   "nbconvert_exporter": "python",
   "pygments_lexer": "ipython3",
   "version": "3.8.3"
  },
  "orig_nbformat": 4
 },
 "nbformat": 4,
 "nbformat_minor": 2
}
