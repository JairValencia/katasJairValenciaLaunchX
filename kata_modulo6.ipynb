{
 "cells": [
  {
   "cell_type": "markdown",
   "metadata": {},
   "source": [
    "## lista de planetas"
   ]
  },
  {
   "cell_type": "code",
   "execution_count": 7,
   "metadata": {},
   "outputs": [
    {
     "name": "stdout",
     "output_type": "stream",
     "text": [
      "8\n",
      "nepturno\n",
      "['mercurio', 'venus', 'tierra', 'marte', 'jupiter', 'saturno', 'urano', 'nepturno', 'pluton']\n",
      "pluton\n"
     ]
    }
   ],
   "source": [
    "planets=['mercurio','venus','tierra','marte','jupiter','saturno','urano','nepturno']\n",
    "print(len(planets))\n",
    "print(planets[-1])\n",
    "planets.append('pluton')\n",
    "print(planets)\n",
    "print(planets[-1])"
   ]
  },
  {
   "cell_type": "markdown",
   "metadata": {},
   "source": [
    "## Trabajando con datos de una lista"
   ]
  },
  {
   "cell_type": "code",
   "execution_count": 1,
   "metadata": {},
   "outputs": [
    {
     "name": "stdout",
     "output_type": "stream",
     "text": [
      "5\n",
      "['Mercurio', 'Venus', 'Tierra', 'Marte']\n",
      "['Saturno', 'Urano', 'Nepturno']\n"
     ]
    }
   ],
   "source": [
    "planets=['Mercurio','Venus','Tierra','Marte','Jupiter','Saturno','Urano','Nepturno'] #lista de planetas\n",
    "planeta=input(\"ingresa el nombre del planeta usando la letra mayuscula para comenzar el nombre del planeta\")\n",
    "planeta_index=planets.index(planeta)  #en que posicion esta el planeta escrito en la lista en este caso jupiter y es el 5\n",
    "print(planeta_index+1)\n",
    "cercanos=planets[0:planeta_index]\n",
    "print(cercanos)\n",
    "lejanos=planets[planeta_index+1:]\n",
    "print(lejanos)"
   ]
  }
 ],
 "metadata": {
  "interpreter": {
   "hash": "1a6279c56d6e5066ff485adb897d3f24ee1de50ebfd570aeab76bb8515b11bc8"
  },
  "kernelspec": {
   "display_name": "Python 3.8.3 ('base')",
   "language": "python",
   "name": "python3"
  },
  "language_info": {
   "codemirror_mode": {
    "name": "ipython",
    "version": 3
   },
   "file_extension": ".py",
   "mimetype": "text/x-python",
   "name": "python",
   "nbconvert_exporter": "python",
   "pygments_lexer": "ipython3",
   "version": "3.8.3"
  },
  "orig_nbformat": 4
 },
 "nbformat": 4,
 "nbformat_minor": 2
}
